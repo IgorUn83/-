{
 "cells": [
  {
   "cell_type": "code",
   "execution_count": 1,
   "id": "724a1f2d",
   "metadata": {},
   "outputs": [],
   "source": [
    "# Задание № 1"
   ]
  },
  {
   "cell_type": "code",
   "execution_count": 1,
   "id": "05eb0f3d",
   "metadata": {},
   "outputs": [],
   "source": [
    "import pandas as pd\n",
    "\n",
    "path_m = r'C:\\Users\\operator\\Documents\\Python Scripts\\movies.csv'\n",
    "path_r = r'C:\\Users\\operator\\Documents\\Python Scripts\\ratings.csv'"
   ]
  },
  {
   "cell_type": "code",
   "execution_count": 2,
   "id": "f7aeaf66",
   "metadata": {},
   "outputs": [],
   "source": [
    "movies = pd.read_csv(path_m)"
   ]
  },
  {
   "cell_type": "code",
   "execution_count": 3,
   "id": "a75452ce",
   "metadata": {},
   "outputs": [],
   "source": [
    "ratings = pd.read_csv(path_r)"
   ]
  },
  {
   "cell_type": "code",
   "execution_count": 4,
   "id": "8f71ba30",
   "metadata": {},
   "outputs": [],
   "source": [
    "need_df = ratings[['movieId', 'rating']]"
   ]
  },
  {
   "cell_type": "code",
   "execution_count": 5,
   "id": "42d14124",
   "metadata": {},
   "outputs": [
    {
     "data": {
      "text/html": [
       "<div>\n",
       "<style scoped>\n",
       "    .dataframe tbody tr th:only-of-type {\n",
       "        vertical-align: middle;\n",
       "    }\n",
       "\n",
       "    .dataframe tbody tr th {\n",
       "        vertical-align: top;\n",
       "    }\n",
       "\n",
       "    .dataframe thead th {\n",
       "        text-align: right;\n",
       "    }\n",
       "</style>\n",
       "<table border=\"1\" class=\"dataframe\">\n",
       "  <thead>\n",
       "    <tr style=\"text-align: right;\">\n",
       "      <th></th>\n",
       "      <th>movieId</th>\n",
       "      <th>rating</th>\n",
       "    </tr>\n",
       "  </thead>\n",
       "  <tbody>\n",
       "    <tr>\n",
       "      <th>0</th>\n",
       "      <td>1</td>\n",
       "      <td>4.0</td>\n",
       "    </tr>\n",
       "    <tr>\n",
       "      <th>1</th>\n",
       "      <td>3</td>\n",
       "      <td>4.0</td>\n",
       "    </tr>\n",
       "    <tr>\n",
       "      <th>2</th>\n",
       "      <td>6</td>\n",
       "      <td>4.0</td>\n",
       "    </tr>\n",
       "    <tr>\n",
       "      <th>3</th>\n",
       "      <td>47</td>\n",
       "      <td>5.0</td>\n",
       "    </tr>\n",
       "    <tr>\n",
       "      <th>4</th>\n",
       "      <td>50</td>\n",
       "      <td>5.0</td>\n",
       "    </tr>\n",
       "    <tr>\n",
       "      <th>...</th>\n",
       "      <td>...</td>\n",
       "      <td>...</td>\n",
       "    </tr>\n",
       "    <tr>\n",
       "      <th>100831</th>\n",
       "      <td>166534</td>\n",
       "      <td>4.0</td>\n",
       "    </tr>\n",
       "    <tr>\n",
       "      <th>100832</th>\n",
       "      <td>168248</td>\n",
       "      <td>5.0</td>\n",
       "    </tr>\n",
       "    <tr>\n",
       "      <th>100833</th>\n",
       "      <td>168250</td>\n",
       "      <td>5.0</td>\n",
       "    </tr>\n",
       "    <tr>\n",
       "      <th>100834</th>\n",
       "      <td>168252</td>\n",
       "      <td>5.0</td>\n",
       "    </tr>\n",
       "    <tr>\n",
       "      <th>100835</th>\n",
       "      <td>170875</td>\n",
       "      <td>3.0</td>\n",
       "    </tr>\n",
       "  </tbody>\n",
       "</table>\n",
       "<p>100836 rows × 2 columns</p>\n",
       "</div>"
      ],
      "text/plain": [
       "        movieId  rating\n",
       "0             1     4.0\n",
       "1             3     4.0\n",
       "2             6     4.0\n",
       "3            47     5.0\n",
       "4            50     5.0\n",
       "...         ...     ...\n",
       "100831   166534     4.0\n",
       "100832   168248     5.0\n",
       "100833   168250     5.0\n",
       "100834   168252     5.0\n",
       "100835   170875     3.0\n",
       "\n",
       "[100836 rows x 2 columns]"
      ]
     },
     "execution_count": 5,
     "metadata": {},
     "output_type": "execute_result"
    }
   ],
   "source": [
    "need_df"
   ]
  },
  {
   "cell_type": "code",
   "execution_count": 6,
   "id": "0bafcfdc",
   "metadata": {},
   "outputs": [],
   "source": [
    "def mean_group(film_data):\n",
    "    \n",
    "    if film_data['rating'].mean() <= 2:\n",
    "        group = 'низкий рейтинг'\n",
    "    \n",
    "    elif film_data['rating'].mean() <= 4:\n",
    "        group = 'средний рейтинг'\n",
    "    \n",
    "    else:\n",
    "        group = 'высокий рейтинг'\n",
    "    \n",
    "    return group "
   ]
  },
  {
   "cell_type": "code",
   "execution_count": 7,
   "id": "64b658aa",
   "metadata": {},
   "outputs": [],
   "source": [
    "answer = need_df.groupby(by='movieId').apply(mean_group)"
   ]
  },
  {
   "cell_type": "code",
   "execution_count": 8,
   "id": "ea9452a6",
   "metadata": {},
   "outputs": [
    {
     "data": {
      "text/plain": [
       "средний рейтинг    7385\n",
       "высокий рейтинг    1260\n",
       "низкий рейтинг     1079\n",
       "dtype: int64"
      ]
     },
     "execution_count": 8,
     "metadata": {},
     "output_type": "execute_result"
    }
   ],
   "source": [
    "answer.value_counts()"
   ]
  },
  {
   "cell_type": "code",
   "execution_count": 10,
   "id": "9a19b98e",
   "metadata": {},
   "outputs": [],
   "source": [
    "# Задание 2"
   ]
  },
  {
   "cell_type": "code",
   "execution_count": 10,
   "id": "05839fa0",
   "metadata": {},
   "outputs": [],
   "source": [
    "keywords = pd.read_csv(r'C:\\Users\\operator\\Documents\\Python Scripts\\keywords.csv')"
   ]
  },
  {
   "cell_type": "code",
   "execution_count": 11,
   "id": "78702f9d",
   "metadata": {},
   "outputs": [],
   "source": [
    "geo_data = {\n",
    "    'Центр': ['москва', 'тула', 'ярославль'],\n",
    "    'Северо-Запад': ['петербург', 'псков', 'мурманск'],\n",
    "    'Дальний Восток': ['владивосток', 'сахалин', 'хабаровск']\n",
    "}"
   ]
  },
  {
   "cell_type": "code",
   "execution_count": 12,
   "id": "126bc72c",
   "metadata": {},
   "outputs": [],
   "source": [
    "def geo(words: str):\n",
    "    \n",
    "    region = []\n",
    "    \n",
    "    for key, val in geo_data.items():\n",
    "        \n",
    "        for v in val:\n",
    "            if v in words:\n",
    "                region.append(key)\n",
    "    \n",
    "    if region == []:\n",
    "        return 'undefined'\n",
    "    \n",
    "    elif len(region) == 1:\n",
    "        return region[0]\n",
    "    \n",
    "    else:\n",
    "        return ', '.join(region)"
   ]
  },
  {
   "cell_type": "code",
   "execution_count": 13,
   "id": "8cf4ad7a",
   "metadata": {},
   "outputs": [],
   "source": [
    "keywords['region'] = keywords['keyword'].apply(geo)"
   ]
  },
  {
   "cell_type": "code",
   "execution_count": 14,
   "id": "af3d7e25",
   "metadata": {},
   "outputs": [
    {
     "data": {
      "text/plain": [
       "undefined              99253\n",
       "Центр                    385\n",
       "Северо-Запад             266\n",
       "Дальний Восток            94\n",
       "Центр, Северо-Запад        2\n",
       "Name: region, dtype: int64"
      ]
     },
     "execution_count": 14,
     "metadata": {},
     "output_type": "execute_result"
    }
   ],
   "source": [
    "keywords.region.value_counts()"
   ]
  },
  {
   "cell_type": "code",
   "execution_count": 15,
   "id": "26b36468",
   "metadata": {},
   "outputs": [
    {
     "data": {
      "text/html": [
       "<div>\n",
       "<style scoped>\n",
       "    .dataframe tbody tr th:only-of-type {\n",
       "        vertical-align: middle;\n",
       "    }\n",
       "\n",
       "    .dataframe tbody tr th {\n",
       "        vertical-align: top;\n",
       "    }\n",
       "\n",
       "    .dataframe thead th {\n",
       "        text-align: right;\n",
       "    }\n",
       "</style>\n",
       "<table border=\"1\" class=\"dataframe\">\n",
       "  <thead>\n",
       "    <tr style=\"text-align: right;\">\n",
       "      <th></th>\n",
       "      <th>keyword</th>\n",
       "      <th>shows</th>\n",
       "      <th>region</th>\n",
       "    </tr>\n",
       "  </thead>\n",
       "  <tbody>\n",
       "    <tr>\n",
       "      <th>0</th>\n",
       "      <td>вк</td>\n",
       "      <td>64292779</td>\n",
       "      <td>undefined</td>\n",
       "    </tr>\n",
       "    <tr>\n",
       "      <th>1</th>\n",
       "      <td>одноклассники</td>\n",
       "      <td>63810309</td>\n",
       "      <td>undefined</td>\n",
       "    </tr>\n",
       "    <tr>\n",
       "      <th>2</th>\n",
       "      <td>порно</td>\n",
       "      <td>41747114</td>\n",
       "      <td>undefined</td>\n",
       "    </tr>\n",
       "    <tr>\n",
       "      <th>3</th>\n",
       "      <td>ютуб</td>\n",
       "      <td>39995567</td>\n",
       "      <td>undefined</td>\n",
       "    </tr>\n",
       "    <tr>\n",
       "      <th>4</th>\n",
       "      <td>вконтакте</td>\n",
       "      <td>21014195</td>\n",
       "      <td>undefined</td>\n",
       "    </tr>\n",
       "  </tbody>\n",
       "</table>\n",
       "</div>"
      ],
      "text/plain": [
       "         keyword     shows     region\n",
       "0             вк  64292779  undefined\n",
       "1  одноклассники  63810309  undefined\n",
       "2          порно  41747114  undefined\n",
       "3           ютуб  39995567  undefined\n",
       "4      вконтакте  21014195  undefined"
      ]
     },
     "execution_count": 15,
     "metadata": {},
     "output_type": "execute_result"
    }
   ],
   "source": [
    "keywords.head()"
   ]
  }
 ],
 "metadata": {
  "kernelspec": {
   "display_name": "Python 3 (ipykernel)",
   "language": "python",
   "name": "python3"
  },
  "language_info": {
   "codemirror_mode": {
    "name": "ipython",
    "version": 3
   },
   "file_extension": ".py",
   "mimetype": "text/x-python",
   "name": "python",
   "nbconvert_exporter": "python",
   "pygments_lexer": "ipython3",
   "version": "3.9.13"
  }
 },
 "nbformat": 4,
 "nbformat_minor": 5
}
