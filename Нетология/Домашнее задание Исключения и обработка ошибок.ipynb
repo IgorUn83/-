{
 "cells": [
  {
   "cell_type": "code",
   "execution_count": 1,
   "id": "0365baa9",
   "metadata": {},
   "outputs": [],
   "source": [
    "import datetime"
   ]
  },
  {
   "cell_type": "markdown",
   "id": "8e05ea2b",
   "metadata": {},
   "source": [
    "Задание 1"
   ]
  },
  {
   "cell_type": "code",
   "execution_count": 9,
   "id": "9142db8e",
   "metadata": {},
   "outputs": [],
   "source": [
    "The_Moscow_Times = \"Wednesday, October 2, 2002\"\n",
    "The_Guardian = \"Friday, 11.10.13\"\n",
    "Daily_News = \"Thursday, 18 August 1977\""
   ]
  },
  {
   "cell_type": "code",
   "execution_count": 10,
   "id": "2dcf0a85",
   "metadata": {},
   "outputs": [],
   "source": [
    "mt = datetime.datetime.strptime(\"Wednesday, October 2, 2002\", \"%A, %B %d, %Y\")"
   ]
  },
  {
   "cell_type": "code",
   "execution_count": 11,
   "id": "f80e71a4",
   "metadata": {},
   "outputs": [
    {
     "data": {
      "text/plain": [
       "datetime.datetime(2002, 10, 2, 0, 0)"
      ]
     },
     "execution_count": 11,
     "metadata": {},
     "output_type": "execute_result"
    }
   ],
   "source": [
    "mt"
   ]
  },
  {
   "cell_type": "code",
   "execution_count": 12,
   "id": "b438e971",
   "metadata": {},
   "outputs": [],
   "source": [
    "g = datetime.datetime.strptime(\"Friday, 11.10.13\", \"%A, %m.%d.%y\")"
   ]
  },
  {
   "cell_type": "code",
   "execution_count": 13,
   "id": "9adf241c",
   "metadata": {},
   "outputs": [
    {
     "data": {
      "text/plain": [
       "datetime.datetime(2013, 11, 10, 0, 0)"
      ]
     },
     "execution_count": 13,
     "metadata": {},
     "output_type": "execute_result"
    }
   ],
   "source": [
    "g"
   ]
  },
  {
   "cell_type": "code",
   "execution_count": 14,
   "id": "521ead0c",
   "metadata": {},
   "outputs": [],
   "source": [
    "dn = datetime.datetime.strptime(\"Thursday, 18 August 1977\", \"%A, %d %B %Y\")"
   ]
  },
  {
   "cell_type": "code",
   "execution_count": 15,
   "id": "5c19c919",
   "metadata": {},
   "outputs": [
    {
     "data": {
      "text/plain": [
       "datetime.datetime(1977, 8, 18, 0, 0)"
      ]
     },
     "execution_count": 15,
     "metadata": {},
     "output_type": "execute_result"
    }
   ],
   "source": [
    "dn"
   ]
  },
  {
   "cell_type": "markdown",
   "id": "664b5ae4",
   "metadata": {},
   "source": [
    "Задание 2"
   ]
  },
  {
   "cell_type": "code",
   "execution_count": 16,
   "id": "48a22b37",
   "metadata": {},
   "outputs": [],
   "source": [
    "stream = [\"2018-04-02\", \"2018-02-29\", \"2018-19-02\"]"
   ]
  },
  {
   "cell_type": "code",
   "execution_count": 17,
   "id": "34792441",
   "metadata": {},
   "outputs": [],
   "source": [
    "def correct(date: str):\n",
    "    try:\n",
    "        correct_date = datetime.datetime.strptime(date, \"%Y-%m-%d\")\n",
    "        return True\n",
    "    \n",
    "    except ValueError:\n",
    "        \n",
    "        return False"
   ]
  },
  {
   "cell_type": "code",
   "execution_count": 18,
   "id": "d1cbcd19",
   "metadata": {},
   "outputs": [
    {
     "name": "stdout",
     "output_type": "stream",
     "text": [
      "2018-04-02 - True\n",
      "2018-02-29 - False\n",
      "2018-19-02 - False\n"
     ]
    }
   ],
   "source": [
    "for date in stream:\n",
    "    print(f'{date} - {correct(date)}')"
   ]
  },
  {
   "cell_type": "markdown",
   "id": "fe8ed865",
   "metadata": {},
   "source": [
    "Задание 3"
   ]
  },
  {
   "cell_type": "code",
   "execution_count": 20,
   "id": "a9b844c7",
   "metadata": {},
   "outputs": [
    {
     "name": "stdout",
     "output_type": "stream",
     "text": [
      "Введите дату в формате YYYY-MM-DD 2024-03-01\n",
      "Введите дату в формате YYYY-MM-DD 2024-03-22\n"
     ]
    }
   ],
   "source": [
    "start_date = input('Введите дату в формате YYYY-MM-DD ')\n",
    "end_date = input('Введите дату в формате YYYY-MM-DD ')"
   ]
  },
  {
   "cell_type": "code",
   "execution_count": 24,
   "id": "b34ea7ce",
   "metadata": {},
   "outputs": [],
   "source": [
    "def date_range(start_date, end_date):\n",
    "    \n",
    "    try:\n",
    "        std = datetime.datetime.strptime(start_date, '%Y-%m-%d')\n",
    "        etd = datetime.datetime.strptime(end_date, '%Y-%m-%d')\n",
    "        \n",
    "        lst_dates = []\n",
    "        cur_date = std\n",
    "        while cur_date <= etd:\n",
    "            lst_dates.append(cur_date)\n",
    "            cur_date += datetime.timedelta(days=1)\n",
    "        return lst_dates\n",
    "    \n",
    "    except ValueError:\n",
    "        \n",
    "        print(f'Неверно введена дата')\n",
    "    "
   ]
  },
  {
   "cell_type": "code",
   "execution_count": 26,
   "id": "422c01db",
   "metadata": {},
   "outputs": [
    {
     "data": {
      "text/plain": [
       "[datetime.datetime(2024, 3, 1, 0, 0),\n",
       " datetime.datetime(2024, 3, 2, 0, 0),\n",
       " datetime.datetime(2024, 3, 3, 0, 0),\n",
       " datetime.datetime(2024, 3, 4, 0, 0),\n",
       " datetime.datetime(2024, 3, 5, 0, 0),\n",
       " datetime.datetime(2024, 3, 6, 0, 0),\n",
       " datetime.datetime(2024, 3, 7, 0, 0),\n",
       " datetime.datetime(2024, 3, 8, 0, 0),\n",
       " datetime.datetime(2024, 3, 9, 0, 0),\n",
       " datetime.datetime(2024, 3, 10, 0, 0),\n",
       " datetime.datetime(2024, 3, 11, 0, 0),\n",
       " datetime.datetime(2024, 3, 12, 0, 0),\n",
       " datetime.datetime(2024, 3, 13, 0, 0),\n",
       " datetime.datetime(2024, 3, 14, 0, 0),\n",
       " datetime.datetime(2024, 3, 15, 0, 0),\n",
       " datetime.datetime(2024, 3, 16, 0, 0),\n",
       " datetime.datetime(2024, 3, 17, 0, 0),\n",
       " datetime.datetime(2024, 3, 18, 0, 0),\n",
       " datetime.datetime(2024, 3, 19, 0, 0),\n",
       " datetime.datetime(2024, 3, 20, 0, 0),\n",
       " datetime.datetime(2024, 3, 21, 0, 0),\n",
       " datetime.datetime(2024, 3, 22, 0, 0)]"
      ]
     },
     "execution_count": 26,
     "metadata": {},
     "output_type": "execute_result"
    }
   ],
   "source": [
    "date_range(start_date, end_date)"
   ]
  },
  {
   "cell_type": "code",
   "execution_count": null,
   "id": "8d86d468",
   "metadata": {},
   "outputs": [],
   "source": []
  }
 ],
 "metadata": {
  "kernelspec": {
   "display_name": "Python 3 (ipykernel)",
   "language": "python",
   "name": "python3"
  },
  "language_info": {
   "codemirror_mode": {
    "name": "ipython",
    "version": 3
   },
   "file_extension": ".py",
   "mimetype": "text/x-python",
   "name": "python",
   "nbconvert_exporter": "python",
   "pygments_lexer": "ipython3",
   "version": "3.9.13"
  }
 },
 "nbformat": 4,
 "nbformat_minor": 5
}
