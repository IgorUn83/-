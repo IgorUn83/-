{
 "cells": [
  {
   "cell_type": "markdown",
   "id": "ba674d85",
   "metadata": {},
   "source": [
    "Задание 1"
   ]
  },
  {
   "cell_type": "code",
   "execution_count": 11,
   "id": "46b81e5f",
   "metadata": {},
   "outputs": [],
   "source": [
    "import json"
   ]
  },
  {
   "cell_type": "code",
   "execution_count": 12,
   "id": "b866ecad",
   "metadata": {},
   "outputs": [],
   "source": [
    "path_pur = r'C:\\Users\\operator\\Downloads\\Downloads\\purchase_log.txt'"
   ]
  },
  {
   "cell_type": "code",
   "execution_count": 13,
   "id": "d3b92af8",
   "metadata": {},
   "outputs": [],
   "source": [
    "dicts = []\n",
    "with open (path_pur, 'r', encoding='utf-8') as f:\n",
    "    for line in f:\n",
    "        dict_ = json.loads(line)\n",
    "        dicts.append(dict_)"
   ]
  },
  {
   "cell_type": "code",
   "execution_count": 14,
   "id": "bd0295ee",
   "metadata": {},
   "outputs": [],
   "source": [
    "purchases = {}\n",
    "for dict_one in dicts:\n",
    "    if dict_one['user_id'] not in purchases.keys():\n",
    "        purchases[dict_one['user_id']] = dict_one['category']\n",
    "    else:\n",
    "        \n",
    "        # используем ; чтобы не сливалась с остальными запятыми при последующих прочтениях\n",
    "        \n",
    "        purchases[dict_one['user_id']] += '; ' + dict_one['category']       "
   ]
  },
  {
   "cell_type": "code",
   "execution_count": 15,
   "id": "41e974c7",
   "metadata": {},
   "outputs": [
    {
     "name": "stdout",
     "output_type": "stream",
     "text": [
      "687f011566 Товары для животных; Электроника; Товары для животных\n"
     ]
    }
   ],
   "source": [
    "for key, value in purchases.items():\n",
    "    if value.count('; ') > 1:\n",
    "        print(key, value)"
   ]
  },
  {
   "cell_type": "markdown",
   "id": "25ea2f8c",
   "metadata": {},
   "source": [
    "Задание 2"
   ]
  },
  {
   "cell_type": "code",
   "execution_count": 16,
   "id": "1f3e80ff",
   "metadata": {},
   "outputs": [],
   "source": [
    "path_vis = r'C:\\Users\\operator\\Downloads\\Downloads\\visit_log.csv'\n",
    "path_fun = r'C:\\Users\\operator\\Downloads\\Downloads\\funnel.csv' "
   ]
  },
  {
   "cell_type": "code",
   "execution_count": 17,
   "id": "02bcc1ba",
   "metadata": {},
   "outputs": [],
   "source": [
    "with open (path_vis, 'r') as f:\n",
    "    with open (path_fun, 'w') as f_1:\n",
    "        for line in f:\n",
    "            \n",
    "            new_line = line.strip().split(',')    \n",
    "            \n",
    "            if new_line[0] in purchases.keys():\n",
    "            \n",
    "                new_line += [purchases[new_line[0]]]\n",
    "                #print(', '.join(new_line))\n",
    "                f_1.write(f\"{', '.join(new_line)}\\n\")"
   ]
  }
 ],
 "metadata": {
  "kernelspec": {
   "display_name": "Python 3 (ipykernel)",
   "language": "python",
   "name": "python3"
  },
  "language_info": {
   "codemirror_mode": {
    "name": "ipython",
    "version": 3
   },
   "file_extension": ".py",
   "mimetype": "text/x-python",
   "name": "python",
   "nbconvert_exporter": "python",
   "pygments_lexer": "ipython3",
   "version": "3.9.13"
  }
 },
 "nbformat": 4,
 "nbformat_minor": 5
}
