{
 "cells": [
  {
   "cell_type": "code",
   "execution_count": null,
   "id": "fc277db5",
   "metadata": {},
   "outputs": [],
   "source": [
    "Задание 1"
   ]
  },
  {
   "cell_type": "code",
   "execution_count": 30,
   "id": "e3e1af1c",
   "metadata": {},
   "outputs": [
    {
     "name": "stdout",
     "output_type": "stream",
     "text": [
      "es\n"
     ]
    }
   ],
   "source": [
    "# Введите ваше слово здесь\n",
    "word = 'test'  # нечетного 'testing'\n",
    "\n",
    "# Определение длины слова\n",
    "length = len(word)\n",
    "\n",
    "# Проверка на четность/нечетность и вывод результата\n",
    "if length % 2 == 0:\n",
    "    # Если число букв четное, выводим две средние буквы\n",
    "    print(word[(length // 2) - 1:(length // 2) + 1])\n",
    "else:\n",
    "    # Если число букв нечетное, выводим среднюю букву\n",
    "    print(word[length // 2])"
   ]
  },
  {
   "cell_type": "code",
   "execution_count": null,
   "id": "d06ef881",
   "metadata": {},
   "outputs": [],
   "source": []
  },
  {
   "cell_type": "code",
   "execution_count": null,
   "id": "42cef45d",
   "metadata": {},
   "outputs": [],
   "source": []
  },
  {
   "cell_type": "markdown",
   "id": "07e0790a",
   "metadata": {},
   "source": [
    "Задание 2"
   ]
  },
  {
   "cell_type": "code",
   "execution_count": 29,
   "id": "bedf2180",
   "metadata": {},
   "outputs": [
    {
     "name": "stdout",
     "output_type": "stream",
     "text": [
      "Введите число: 4\n",
      "Введите число: 9\n",
      "Введите число: 0\n",
      "Результат: 13\n"
     ]
    }
   ],
   "source": [
    "summa = 0\n",
    "\n",
    "while True:\n",
    "    # Запрос числа у пользователя\n",
    "    number = int(input(\"Введите число: \"))\n",
    "    \n",
    "    # Проверка на условие завершения - ввод 0\n",
    "    if number == 0:\n",
    "        break\n",
    "    \n",
    "    # Добавление числа к сумме\n",
    "    summa += number\n",
    "\n",
    "\n",
    "print(\"Результат:\", summa)"
   ]
  },
  {
   "cell_type": "code",
   "execution_count": null,
   "id": "65651250",
   "metadata": {},
   "outputs": [],
   "source": []
  },
  {
   "cell_type": "code",
   "execution_count": null,
   "id": "ce8dde97",
   "metadata": {},
   "outputs": [],
   "source": []
  },
  {
   "cell_type": "markdown",
   "id": "bf9f3488",
   "metadata": {},
   "source": [
    "Задание 3"
   ]
  },
  {
   "cell_type": "code",
   "execution_count": 24,
   "id": "9789855e",
   "metadata": {},
   "outputs": [],
   "source": [
    "def make_pairs(boys, girls):\n",
    "    # Сортировка списков\n",
    "    boys_sorted = sorted(boys)\n",
    "    girls_sorted = sorted(girls)\n",
    "    \n",
    "    # Проверка на равенство количества парней и девушек\n",
    "    if len(boys) != len(girls):\n",
    "        return \"Внимание, кто-то может остаться без пары!\"\n",
    "    else:\n",
    "        pairs = []\n",
    "        # Создание пар\n",
    "        for i in range(len(boys_sorted)):\n",
    "            pairs.append(f\"{boys_sorted[i]} и {girls_sorted[i]}\")\n",
    "        return \"Идеальные пары:\\n\" + \"\\n\".join(pairs)"
   ]
  },
  {
   "cell_type": "code",
   "execution_count": 25,
   "id": "7fd83456",
   "metadata": {},
   "outputs": [
    {
     "name": "stdout",
     "output_type": "stream",
     "text": [
      "Идеальные пары:\n",
      "Alex и Emma\n",
      "Arthur и Kate\n",
      "John и Kira\n",
      "Peter и Liza\n",
      "Richard и Trisha\n"
     ]
    }
   ],
   "source": [
    "# Пример с совпадением\n",
    "boys = ['Peter', 'Alex', 'John', 'Arthur', 'Richard']\n",
    "girls = ['Kate', 'Liza', 'Kira', 'Emma', 'Trisha']\n",
    "print(make_pairs(boys, girls))"
   ]
  },
  {
   "cell_type": "code",
   "execution_count": 26,
   "id": "50fbb194",
   "metadata": {},
   "outputs": [
    {
     "name": "stdout",
     "output_type": "stream",
     "text": [
      "Внимание, кто-то может остаться без пары!\n"
     ]
    }
   ],
   "source": [
    "# Пример где не совпадают\n",
    "boys = ['Peter', 'Alex', 'John', 'Arthur', 'Richard', 'Michael']\n",
    "girls = ['Kate', 'Liza', 'Kira', 'Emma', 'Trisha']\n",
    "print(make_pairs(boys, girls))"
   ]
  },
  {
   "cell_type": "code",
   "execution_count": null,
   "id": "064e2d03",
   "metadata": {},
   "outputs": [],
   "source": []
  },
  {
   "cell_type": "code",
   "execution_count": null,
   "id": "87bfb99b",
   "metadata": {},
   "outputs": [],
   "source": []
  },
  {
   "cell_type": "markdown",
   "id": "2139378c",
   "metadata": {},
   "source": [
    "Задание 4"
   ]
  },
  {
   "cell_type": "code",
   "execution_count": null,
   "id": "c3a17218",
   "metadata": {},
   "outputs": [],
   "source": [
    "def calculate_avg_temperature(countries_temperature):\n",
    "    print(\"Средняя температура в странах:\")\n",
    "    for country, temperatures in countries_temperature:\n",
    "        # Перевод температур из Фаренгейта в Цельсий и расчет среднего значения\n",
    "        avg_temp_celsius = sum([(temp - 32) * 5/9 for temp in temperatures]) / len(temperatures)\n",
    "        print(f\"{country} - {avg_temp_celsius:.1f} С\")"
   ]
  },
  {
   "cell_type": "code",
   "execution_count": 22,
   "id": "aeb62b1f",
   "metadata": {},
   "outputs": [
    {
     "name": "stdout",
     "output_type": "stream",
     "text": [
      "Средняя температура в странах:\n",
      "Таиланд - 1208.2 С\n",
      "Германия - 13.8 С\n",
      "Россия - 2.0 С\n",
      "Польша - 12.0 С\n"
     ]
    }
   ],
   "source": [
    "countries_temperature = [\n",
    "    ['Таиланд', [75.2, 15000, 78.8, 73.4, 68, 75.2, 77]],\n",
    "    ['Германия', [57.2, 55.4, 59, 59, 53.6]],\n",
    "    ['Россия', [35.6, 55.4, 39.2, 1, 42.8, 39.2, 35.6]],\n",
    "    ['Польша', [50, 50, 53.6, 57.2, 55.4, 55.4]]\n",
    "]\n",
    "\n",
    "calculate_avg_temperature(countries_temperature)"
   ]
  },
  {
   "cell_type": "code",
   "execution_count": null,
   "id": "f9c80940",
   "metadata": {},
   "outputs": [],
   "source": []
  }
 ],
 "metadata": {
  "kernelspec": {
   "display_name": "Python 3 (ipykernel)",
   "language": "python",
   "name": "python3"
  },
  "language_info": {
   "codemirror_mode": {
    "name": "ipython",
    "version": 3
   },
   "file_extension": ".py",
   "mimetype": "text/x-python",
   "name": "python",
   "nbconvert_exporter": "python",
   "pygments_lexer": "ipython3",
   "version": "3.9.13"
  }
 },
 "nbformat": 4,
 "nbformat_minor": 5
}
